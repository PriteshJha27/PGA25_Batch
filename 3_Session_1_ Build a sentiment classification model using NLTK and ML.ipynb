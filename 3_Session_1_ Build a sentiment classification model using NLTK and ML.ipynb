{
 "cells": [
  {
   "cell_type": "markdown",
   "id": "8ce10e0a",
   "metadata": {},
   "source": [
    "## Build a sentiment classifier using NLTK and ML"
   ]
  },
  {
   "cell_type": "code",
   "execution_count": 1,
   "id": "54cb92f6",
   "metadata": {},
   "outputs": [],
   "source": [
    "import nltk\n",
    "from nltk.corpus import movie_reviews\n",
    "from nltk.classify import NaiveBayesClassifier\n",
    "from nltk.classify.util import accuracy as nltk_accuracy\n",
    "from nltk.corpus import stopwords\n",
    "from nltk.tokenize import word_tokenize\n"
   ]
  },
  {
   "cell_type": "code",
   "execution_count": 2,
   "id": "28b0ae5d",
   "metadata": {},
   "outputs": [],
   "source": [
    "import random"
   ]
  },
  {
   "cell_type": "code",
   "execution_count": 3,
   "id": "d3b1b6a9",
   "metadata": {},
   "outputs": [],
   "source": [
    "# nltk.download('movie_reviews')\n",
    "# nltk.download('punkt')\n",
    "# nltk.download('stopwords')"
   ]
  },
  {
   "cell_type": "code",
   "execution_count": 4,
   "id": "b4e70323",
   "metadata": {},
   "outputs": [],
   "source": [
    "documents = [(list(movie_reviews.words(fileid)), category)\n",
    "             for category in movie_reviews.categories()\n",
    "             for fileid in movie_reviews.fileids(category)]"
   ]
  },
  {
   "cell_type": "code",
   "execution_count": 5,
   "id": "4d405afb",
   "metadata": {},
   "outputs": [],
   "source": [
    "# Shuffle the documents\n",
    "random.shuffle(documents)"
   ]
  },
  {
   "cell_type": "code",
   "execution_count": 6,
   "id": "115c560d",
   "metadata": {},
   "outputs": [],
   "source": [
    "def extract_features(words):\n",
    "    return dict([(word, True) for word in words if word not in stopwords.words('english')])"
   ]
  },
  {
   "cell_type": "code",
   "execution_count": 7,
   "id": "c1e5a4b0",
   "metadata": {},
   "outputs": [],
   "source": [
    "# Define the feature sets\n",
    "featuresets = [(extract_features(doc), category) for (doc, category) in documents]"
   ]
  },
  {
   "cell_type": "code",
   "execution_count": 8,
   "id": "c9979072",
   "metadata": {},
   "outputs": [],
   "source": [
    "# Split the feature sets into training and testing datasets\n",
    "train_set, test_set = featuresets[100:], featuresets[:100]"
   ]
  },
  {
   "cell_type": "code",
   "execution_count": 9,
   "id": "7d55477e",
   "metadata": {},
   "outputs": [],
   "source": [
    "classifier = NaiveBayesClassifier.train(train_set)"
   ]
  },
  {
   "cell_type": "code",
   "execution_count": 10,
   "id": "72b54007",
   "metadata": {},
   "outputs": [
    {
     "name": "stdout",
     "output_type": "stream",
     "text": [
      "Accuracy:  0.78\n"
     ]
    }
   ],
   "source": [
    "print(\"Accuracy: \", nltk_accuracy(classifier, test_set))"
   ]
  },
  {
   "cell_type": "code",
   "execution_count": 11,
   "id": "5caffa48",
   "metadata": {},
   "outputs": [],
   "source": [
    "def sentiment_analysis(text):\n",
    "    words = word_tokenize(text)\n",
    "    features = extract_features(words)\n",
    "    return classifier.classify(features)"
   ]
  },
  {
   "cell_type": "code",
   "execution_count": 20,
   "id": "0e4487e7",
   "metadata": {},
   "outputs": [
    {
     "name": "stdout",
     "output_type": "stream",
     "text": [
      "Review: Shrikant is a great guy\n"
     ]
    }
   ],
   "source": [
    "# Write a new review\n",
    "new_review = \"Shrikant is a great guy\"\n",
    "print(\"Review:\", new_review)"
   ]
  },
  {
   "cell_type": "code",
   "execution_count": 21,
   "id": "f108658a",
   "metadata": {},
   "outputs": [
    {
     "name": "stdout",
     "output_type": "stream",
     "text": [
      "Sentiment: pos\n"
     ]
    }
   ],
   "source": [
    "\n",
    "# Check result for new review\n",
    "print(\"Sentiment:\", sentiment_analysis(new_review))"
   ]
  },
  {
   "cell_type": "code",
   "execution_count": null,
   "id": "a31f9686",
   "metadata": {},
   "outputs": [],
   "source": []
  }
 ],
 "metadata": {
  "kernelspec": {
   "display_name": "Python 3 (ipykernel)",
   "language": "python",
   "name": "python3"
  },
  "language_info": {
   "codemirror_mode": {
    "name": "ipython",
    "version": 3
   },
   "file_extension": ".py",
   "mimetype": "text/x-python",
   "name": "python",
   "nbconvert_exporter": "python",
   "pygments_lexer": "ipython3",
   "version": "3.10.9"
  }
 },
 "nbformat": 4,
 "nbformat_minor": 5
}
