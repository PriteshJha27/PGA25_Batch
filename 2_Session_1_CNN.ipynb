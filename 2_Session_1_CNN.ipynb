{
 "cells": [
  {
   "cell_type": "markdown",
   "id": "2cab962b",
   "metadata": {},
   "source": [
    "## Building a CNN to classify images in the CIFAR-10 Dataset\n",
    "\n",
    "We will work with the CIFAR-10 Dataset.\n",
    "This is a well-known dataset for image classification, which consists of 60000 32x32 color images in 10 classes, with 6000 images per class. There are 50000 training images and 10000 test images.\n",
    "\n",
    "The 10 classes are:\n",
    "\n",
    "<ol start=\"0\">\n",
    "<li> airplane\n",
    "<li>  automobile\n",
    "<li> bird\n",
    "<li>  cat\n",
    "<li> deer\n",
    "<li> dog\n",
    "<li>  frog\n",
    "<li>  horse\n",
    "<li>  ship\n",
    "<li>  truck\n",
    "</ol>\n",
    "\n",
    "---\n"
   ]
  },
  {
   "cell_type": "markdown",
   "id": "a3c926c3",
   "metadata": {},
   "source": [
    "* For a compilation of published performance results on CIFAR 10, see:\n",
    "http://rodrigob.github.io/are_we_there_yet/build/classification_datasets_results.html\n"
   ]
  },
  {
   "cell_type": "markdown",
   "id": "edfe8734",
   "metadata": {},
   "source": [
    "#### Load packages"
   ]
  },
  {
   "cell_type": "code",
   "execution_count": null,
   "id": "bb14e35e",
   "metadata": {},
   "outputs": [],
   "source": [
    "import keras\n",
    "from keras.datasets import cifar10"
   ]
  },
  {
   "cell_type": "code",
   "execution_count": null,
   "id": "2a4b8bbb",
   "metadata": {},
   "outputs": [],
   "source": [
    "from keras.models import Sequential\n",
    "from keras.layers import Dense, Dropout, Activation, Flatten"
   ]
  },
  {
   "cell_type": "code",
   "execution_count": null,
   "id": "8545fe7b",
   "metadata": {},
   "outputs": [],
   "source": [
    "from keras.layers import Conv2D, MaxPooling2D"
   ]
  },
  {
   "cell_type": "code",
   "execution_count": null,
   "id": "3ebf81c0",
   "metadata": {},
   "outputs": [],
   "source": [
    "from matplotlib import pyplot as plt "
   ]
  },
  {
   "cell_type": "markdown",
   "id": "6d9cdbd5",
   "metadata": {},
   "source": [
    "#### Load and Split the data"
   ]
  },
  {
   "cell_type": "code",
   "execution_count": null,
   "id": "482521c3",
   "metadata": {},
   "outputs": [],
   "source": [
    "(x_train, y_train), (x_test, y_test) = cifar10.load_data()"
   ]
  },
  {
   "cell_type": "code",
   "execution_count": null,
   "id": "5d9f1099",
   "metadata": {},
   "outputs": [],
   "source": [
    "print('x_train shape:', x_train.shape)\n",
    "print(x_train.shape[0], 'train samples')\n",
    "print(x_test.shape[0], 'test samples')"
   ]
  },
  {
   "cell_type": "code",
   "execution_count": null,
   "id": "7f835810",
   "metadata": {},
   "outputs": [],
   "source": [
    "## Each image is a 32 x 32 x 3 numpy array\n",
    "x_train[0].shape"
   ]
  },
  {
   "cell_type": "code",
   "execution_count": null,
   "id": "70deec2b",
   "metadata": {},
   "outputs": [],
   "source": [
    "def plot_matrix(number):\n",
    "    plt.imshow(x_train[number])"
   ]
  },
  {
   "cell_type": "code",
   "execution_count": null,
   "id": "b6ee1644",
   "metadata": {},
   "outputs": [],
   "source": [
    "plot_matrix(10)"
   ]
  },
  {
   "cell_type": "markdown",
   "id": "2048642c",
   "metadata": {},
   "source": [
    "#### Scaling the 8-bit values between 0 to 1"
   ]
  },
  {
   "cell_type": "code",
   "execution_count": null,
   "id": "b6d674ce",
   "metadata": {},
   "outputs": [],
   "source": [
    "x_train = x_train.astype('float32')\n",
    "x_test = x_test.astype('float32')\n",
    "x_train /= 255\n",
    "x_test /= 255"
   ]
  },
  {
   "cell_type": "markdown",
   "id": "9f4eeeca",
   "metadata": {},
   "source": [
    "#### One hot encoding for multi-class "
   ]
  },
  {
   "cell_type": "code",
   "execution_count": null,
   "id": "a3c0a9c9",
   "metadata": {},
   "outputs": [],
   "source": [
    "\n",
    "num_classes = 10\n",
    "\n",
    "y_train = keras.utils.to_categorical(y_train, num_classes)\n",
    "y_test = keras.utils.to_categorical(y_test, num_classes)"
   ]
  },
  {
   "cell_type": "markdown",
   "id": "67accb40",
   "metadata": {},
   "source": [
    "### CNN generalized structure"
   ]
  },
  {
   "cell_type": "markdown",
   "id": "5f8b9b76",
   "metadata": {},
   "source": [
    "* Sequential\n",
    "---\n",
    "* Conv2D(input_shape, filters ,kernel=( , ), padding='same')\n",
    "* Activation function\n",
    "---\n",
    "* Conv2D(filters ,kernel=( , ), padding='same')\n",
    "* Activation function\n",
    "---\n",
    "* Maxpooling2D(pool_size=(2,2))\n",
    "---\n",
    "* Regularization\n",
    "---\n",
    "* Flatten()\n",
    "---\n",
    "* Dense()\n",
    "* Activation function\n",
    "---\n",
    "* Regularization\n",
    "---\n",
    "* Dense(Final activation Layer with num_classes)\n",
    "* Final Activation function\n",
    "---\n",
    "* model.summary()"
   ]
  },
  {
   "cell_type": "code",
   "execution_count": null,
   "id": "9697abc2",
   "metadata": {},
   "outputs": [],
   "source": []
  },
  {
   "cell_type": "markdown",
   "id": "bfa3b38f",
   "metadata": {},
   "source": [
    "###  CNN Architecture : CIFAR-10 dataset\n",
    "\n",
    "* Convolution Layer 1\n",
    "* * Kernel = 5x5\n",
    "* * filters = 32\n",
    "* * stride = 2,2\n",
    "* * padding = same (Automatically use the padding that will retain the original shape)\n",
    "* * Activation - Relu\n",
    "* * Pooling = None\n",
    "\n",
    "----\n",
    "\n",
    "* Convolution Layer 2\n",
    "* * Kernel = 5x5\n",
    "* * filters = 32\n",
    "* * stride = 2,2\n",
    "* * padding = None\n",
    "* * Activation - Relu\n",
    "* * Pooling = Max(2,2)\n",
    "\n",
    "----\n",
    "\n",
    "* Hidden Layers - 1\n",
    "* No of Nodes - 512\n",
    "* Activation Function - Relu\n",
    "* Regularization - Dropout\n",
    "* Final Activation Layer - Softmax\n",
    "* Optimizer - Adam"
   ]
  },
  {
   "cell_type": "code",
   "execution_count": null,
   "id": "1ba00485",
   "metadata": {},
   "outputs": [],
   "source": [
    "model_1 = Sequential()"
   ]
  },
  {
   "cell_type": "code",
   "execution_count": null,
   "id": "09ba3110",
   "metadata": {},
   "outputs": [],
   "source": [
    "## 5x5 convolution with 2x2 stride and 32 filters\n",
    "model_1.add(Conv2D(\n",
    "    input_shape = x_train.shape[1:],\n",
    "    kernel_size = (5,5),\n",
    "    filters = 32,\n",
    "    strides = (2,2),\n",
    "    padding = 'same',\n",
    "    activation = 'relu'\n",
    ")\n",
    "#model_1.add(Activation('relu'))"
   ]
  },
  {
   "cell_type": "code",
   "execution_count": null,
   "id": "ce0a34eb",
   "metadata": {},
   "outputs": [],
   "source": [
    "## Another 5x5 convolution with 2x2 stride and 32 filters\n",
    "model_1.add(Conv2D(32, (5, 5), strides = (2,2)))\n",
    "model_1.add(Activation('relu'))"
   ]
  },
  {
   "cell_type": "code",
   "execution_count": null,
   "id": "94c47fd1",
   "metadata": {},
   "outputs": [],
   "source": [
    "## 2x2 max pooling reduces to 3 x 3 x 32\n",
    "model_1.add(MaxPooling2D(pool_size=(2, 2)))\n",
    "model_1.add(Dropout(0.25))"
   ]
  },
  {
   "cell_type": "code",
   "execution_count": null,
   "id": "d318c217",
   "metadata": {},
   "outputs": [],
   "source": [
    "## Flatten turns 3x3x32 into 288x1\n",
    "model_1.add(Flatten())"
   ]
  },
  {
   "cell_type": "code",
   "execution_count": null,
   "id": "64bf2fff",
   "metadata": {},
   "outputs": [],
   "source": [
    "model_1.add(Dense(512))\n",
    "model_1.add(Activation('relu'))"
   ]
  },
  {
   "cell_type": "code",
   "execution_count": null,
   "id": "d51bfa3a",
   "metadata": {},
   "outputs": [],
   "source": [
    "model_1.add(Dropout(0.5))"
   ]
  },
  {
   "cell_type": "code",
   "execution_count": null,
   "id": "1fb3568e",
   "metadata": {},
   "outputs": [],
   "source": [
    "model_1.add(Dense(num_classes))\n",
    "model_1.add(Activation('softmax'))"
   ]
  },
  {
   "cell_type": "code",
   "execution_count": null,
   "id": "faff9b11",
   "metadata": {},
   "outputs": [],
   "source": [
    "model_1.compile(loss='categorical_crossentropy',\n",
    "              optimizer='adam',\n",
    "              metrics=['accuracy'])"
   ]
  },
  {
   "cell_type": "code",
   "execution_count": null,
   "id": "052bb1f8",
   "metadata": {},
   "outputs": [],
   "source": [
    "model_1.summary()"
   ]
  },
  {
   "cell_type": "code",
   "execution_count": null,
   "id": "54bef559",
   "metadata": {},
   "outputs": [],
   "source": [
    "model_1.fit(x_train, y_train,\n",
    "              epochs=15,\n",
    "              validation_data=(x_test, y_test),\n",
    "              shuffle=True)"
   ]
  },
  {
   "cell_type": "code",
   "execution_count": null,
   "id": "5e2c95ae",
   "metadata": {},
   "outputs": [],
   "source": []
  },
  {
   "cell_type": "code",
   "execution_count": null,
   "id": "3dfcca94",
   "metadata": {},
   "outputs": [],
   "source": []
  },
  {
   "cell_type": "markdown",
   "id": "c6481994",
   "metadata": {},
   "source": [
    "### Home Assignment for CNN Day-1"
   ]
  },
  {
   "cell_type": "markdown",
   "id": "0c3e3d19",
   "metadata": {},
   "source": [
    "Our previous model had the structure:\n",
    "\n",
    "Conv -> Conv -> MaxPool -> (Flatten) -> Dense -> Final Classification\n",
    "\n",
    "(with appropriate activation functions and dropouts)\n",
    "\n",
    "1. Build a more complicated model with the following pattern:\n",
    "- Conv -> Conv -> MaxPool -> Conv -> Conv -> MaxPool -> (Flatten) -> Dense -> Final Classification\n",
    "\n",
    "- Use strides of 1 for all convolutional layers.\n",
    "\n",
    "2. How many parameters does your model have?  How does that compare to the previous model?\n",
    "\n",
    "3. Train it for 5 epochs.  What do you notice about the training time, loss and accuracy numbers (on both the training and validation sets)?\n",
    "\n",
    "5. Try different structures and run times, and see how accurate your model can be.\n"
   ]
  },
  {
   "cell_type": "code",
   "execution_count": null,
   "id": "55701bb6",
   "metadata": {},
   "outputs": [],
   "source": []
  }
 ],
 "metadata": {
  "kernelspec": {
   "display_name": "Python 3 (ipykernel)",
   "language": "python",
   "name": "python3"
  },
  "language_info": {
   "codemirror_mode": {
    "name": "ipython",
    "version": 3
   },
   "file_extension": ".py",
   "mimetype": "text/x-python",
   "name": "python",
   "nbconvert_exporter": "python",
   "pygments_lexer": "ipython3",
   "version": "3.10.9"
  }
 },
 "nbformat": 4,
 "nbformat_minor": 5
}
