{
 "cells": [
  {
   "cell_type": "markdown",
   "id": "e36c08e5",
   "metadata": {},
   "source": [
    "#### Google Speech Recognition"
   ]
  },
  {
   "cell_type": "code",
   "execution_count": null,
   "id": "e35089b3",
   "metadata": {},
   "outputs": [],
   "source": [
    "pip install SpeechRecognition pydub\n"
   ]
  },
  {
   "cell_type": "code",
   "execution_count": 1,
   "id": "ae4def5e",
   "metadata": {},
   "outputs": [],
   "source": [
    "import warnings\n",
    "warnings.filterwarnings('ignore')"
   ]
  },
  {
   "cell_type": "code",
   "execution_count": 2,
   "id": "71fe6186",
   "metadata": {},
   "outputs": [],
   "source": [
    "import speech_recognition as sr\n",
    "from pydub import AudioSegment\n",
    "import os"
   ]
  },
  {
   "cell_type": "code",
   "execution_count": 3,
   "id": "ed2c9e3b",
   "metadata": {},
   "outputs": [
    {
     "data": {
      "text/plain": [
       "'3.10.1'"
      ]
     },
     "execution_count": 3,
     "metadata": {},
     "output_type": "execute_result"
    }
   ],
   "source": [
    "sr.__version__"
   ]
  },
  {
   "cell_type": "code",
   "execution_count": null,
   "id": "afecdc6d",
   "metadata": {},
   "outputs": [],
   "source": []
  },
  {
   "cell_type": "code",
   "execution_count": null,
   "id": "5a904820",
   "metadata": {},
   "outputs": [],
   "source": []
  },
  {
   "cell_type": "code",
   "execution_count": null,
   "id": "84e00086",
   "metadata": {},
   "outputs": [],
   "source": []
  },
  {
   "cell_type": "code",
   "execution_count": null,
   "id": "291866f1",
   "metadata": {},
   "outputs": [],
   "source": []
  },
  {
   "cell_type": "code",
   "execution_count": 6,
   "id": "9823694c",
   "metadata": {},
   "outputs": [],
   "source": [
    "def transcribe_audio(file_path):\n",
    "    # Convert to WAV\n",
    "    if file_path.endswith('.mp3'):\n",
    "        audio = AudioSegment.from_mp3(file_path)\n",
    "        file_path = file_path.replace('.mp3', '.wav')\n",
    "        audio.export(file_path, format='wav')\n",
    "\n",
    "    r = sr.Recognizer()\n",
    "\n",
    "    with sr.AudioFile(file_path) as source:\n",
    "        audio_data = r.record(source)\n",
    "\n",
    "        #Speech recognition\n",
    "        try:\n",
    "            text = r.recognize_google(audio_data)\n",
    "            return text\n",
    "        except sr.UnknownValueError:\n",
    "            return \"Speech Recognition could not understand the audio\"\n",
    "        except sr.RequestError:\n",
    "            return \"Could not request results from Speech Recognition service\"\n"
   ]
  },
  {
   "cell_type": "code",
   "execution_count": 7,
   "id": "69a87f9a",
   "metadata": {},
   "outputs": [],
   "source": [
    "# Path to your audio file\n",
    "audio_file = 'D:\\\\Pritesh\\\\Imarticus Learning\\\\Content\\\\Deep Learning\\\\sample.wav'"
   ]
  },
  {
   "cell_type": "code",
   "execution_count": 8,
   "id": "379f401c",
   "metadata": {
    "scrolled": true
   },
   "outputs": [
    {
     "name": "stdout",
     "output_type": "stream",
     "text": [
      "hi my name is Pritesh\n"
     ]
    }
   ],
   "source": [
    "# Transcribe the audio\n",
    "captions = transcribe_audio(audio_file)\n",
    "print(captions)"
   ]
  },
  {
   "cell_type": "code",
   "execution_count": null,
   "id": "fd83ee5a",
   "metadata": {},
   "outputs": [],
   "source": []
  }
 ],
 "metadata": {
  "kernelspec": {
   "display_name": "Python 3 (ipykernel)",
   "language": "python",
   "name": "python3"
  },
  "language_info": {
   "codemirror_mode": {
    "name": "ipython",
    "version": 3
   },
   "file_extension": ".py",
   "mimetype": "text/x-python",
   "name": "python",
   "nbconvert_exporter": "python",
   "pygments_lexer": "ipython3",
   "version": "3.10.9"
  }
 },
 "nbformat": 4,
 "nbformat_minor": 5
}
