{
 "cells": [
  {
   "cell_type": "markdown",
   "id": "51a5d05e",
   "metadata": {},
   "source": [
    "### Create a classification model using RNN"
   ]
  },
  {
   "cell_type": "code",
   "execution_count": 1,
   "id": "310f92b9",
   "metadata": {},
   "outputs": [],
   "source": [
    "import tensorflow as tf\n",
    "from tensorflow.keras.datasets import imdb\n",
    "from tensorflow.keras.preprocessing.sequence import pad_sequences\n",
    "from tensorflow.keras.models import Sequential\n",
    "from tensorflow.keras.layers import Embedding, SimpleRNN, Dense"
   ]
  },
  {
   "cell_type": "code",
   "execution_count": 2,
   "id": "c578c8bf",
   "metadata": {},
   "outputs": [],
   "source": [
    "# Load IMDb movie reviews dataset\n",
    "vocab_size = 10000  # Consider only the top 10,000 words in the dataset\n",
    "maxlen = 500  # Cuts off reviews after 500 words\n",
    "(train_data, train_labels), (test_data, test_labels) = imdb.load_data(num_words=vocab_size)"
   ]
  },
  {
   "cell_type": "code",
   "execution_count": 3,
   "id": "10b445de",
   "metadata": {},
   "outputs": [],
   "source": [
    "# Pad sequences to ensure uniform length\n",
    "train_data = pad_sequences(train_data, maxlen=maxlen)\n",
    "test_data = pad_sequences(test_data, maxlen=maxlen)"
   ]
  },
  {
   "cell_type": "code",
   "execution_count": 4,
   "id": "f45bd057",
   "metadata": {},
   "outputs": [],
   "source": [
    "# Create the RNN model\n",
    "model = Sequential()"
   ]
  },
  {
   "cell_type": "code",
   "execution_count": 5,
   "id": "e5e25efe",
   "metadata": {},
   "outputs": [],
   "source": [
    "model.add(Embedding(vocab_size, 32))  # 32 is the embedding dimension"
   ]
  },
  {
   "cell_type": "code",
   "execution_count": 6,
   "id": "7113df0e",
   "metadata": {},
   "outputs": [],
   "source": [
    "model.add(SimpleRNN(32))  # 32 is the output dimension of the RNN layer"
   ]
  },
  {
   "cell_type": "code",
   "execution_count": 7,
   "id": "aa4188fc",
   "metadata": {},
   "outputs": [],
   "source": [
    "model.add(Dense(1, activation='sigmoid'))  # Binary classification (positive/negative)"
   ]
  },
  {
   "cell_type": "code",
   "execution_count": 8,
   "id": "8f230c63",
   "metadata": {},
   "outputs": [],
   "source": [
    "# Compile the model\n",
    "model.compile(optimizer='rmsprop', loss='binary_crossentropy', metrics=['acc'])"
   ]
  },
  {
   "cell_type": "code",
   "execution_count": 9,
   "id": "37c91d70",
   "metadata": {
    "collapsed": true
   },
   "outputs": [
    {
     "name": "stdout",
     "output_type": "stream",
     "text": [
      "Epoch 1/10\n",
      "157/157 [==============================] - 27s 164ms/step - loss: 0.6091 - acc: 0.6496 - val_loss: 0.4863 - val_acc: 0.7872\n",
      "Epoch 2/10\n",
      "157/157 [==============================] - 26s 166ms/step - loss: 0.3694 - acc: 0.8510 - val_loss: 0.3438 - val_acc: 0.8648\n",
      "Epoch 3/10\n",
      "157/157 [==============================] - 26s 163ms/step - loss: 0.2895 - acc: 0.8854 - val_loss: 0.3789 - val_acc: 0.8370\n",
      "Epoch 4/10\n",
      "157/157 [==============================] - 26s 164ms/step - loss: 0.2230 - acc: 0.9168 - val_loss: 0.3853 - val_acc: 0.8434\n",
      "Epoch 5/10\n",
      "157/157 [==============================] - 25s 162ms/step - loss: 0.1869 - acc: 0.9327 - val_loss: 0.4260 - val_acc: 0.8166\n",
      "Epoch 6/10\n",
      "157/157 [==============================] - 26s 164ms/step - loss: 0.1181 - acc: 0.9589 - val_loss: 0.4190 - val_acc: 0.8420\n",
      "Epoch 7/10\n",
      "157/157 [==============================] - 26s 164ms/step - loss: 0.0790 - acc: 0.9730 - val_loss: 0.4665 - val_acc: 0.8470\n",
      "Epoch 8/10\n",
      "157/157 [==============================] - 26s 163ms/step - loss: 0.0538 - acc: 0.9838 - val_loss: 0.4682 - val_acc: 0.8598\n",
      "Epoch 9/10\n",
      "157/157 [==============================] - 26s 164ms/step - loss: 0.0349 - acc: 0.9905 - val_loss: 0.5580 - val_acc: 0.8448\n",
      "Epoch 10/10\n",
      "157/157 [==============================] - 26s 165ms/step - loss: 0.0212 - acc: 0.9942 - val_loss: 0.6521 - val_acc: 0.8264\n"
     ]
    }
   ],
   "source": [
    "# Train the model\n",
    "history = model.fit(train_data, train_labels, epochs=10, batch_size=128, validation_split=0.2)"
   ]
  },
  {
   "cell_type": "code",
   "execution_count": 10,
   "id": "2959906d",
   "metadata": {},
   "outputs": [
    {
     "name": "stdout",
     "output_type": "stream",
     "text": [
      "782/782 [==============================] - 24s 31ms/step - loss: 0.7039 - acc: 0.8101\n",
      "Test Accuracy: 0.8100799918174744\n"
     ]
    }
   ],
   "source": [
    "# Evaluate the model on the test set\n",
    "test_loss, test_acc = model.evaluate(test_data, test_labels)\n",
    "print(f\"Test Accuracy: {test_acc}\")"
   ]
  },
  {
   "cell_type": "code",
   "execution_count": null,
   "id": "eca1681f",
   "metadata": {},
   "outputs": [],
   "source": []
  },
  {
   "cell_type": "code",
   "execution_count": null,
   "id": "baba85ad",
   "metadata": {},
   "outputs": [],
   "source": []
  },
  {
   "cell_type": "code",
   "execution_count": null,
   "id": "abea8fc5",
   "metadata": {},
   "outputs": [],
   "source": []
  }
 ],
 "metadata": {
  "kernelspec": {
   "display_name": "Python 3 (ipykernel)",
   "language": "python",
   "name": "python3"
  },
  "language_info": {
   "codemirror_mode": {
    "name": "ipython",
    "version": 3
   },
   "file_extension": ".py",
   "mimetype": "text/x-python",
   "name": "python",
   "nbconvert_exporter": "python",
   "pygments_lexer": "ipython3",
   "version": "3.10.9"
  }
 },
 "nbformat": 4,
 "nbformat_minor": 5
}
