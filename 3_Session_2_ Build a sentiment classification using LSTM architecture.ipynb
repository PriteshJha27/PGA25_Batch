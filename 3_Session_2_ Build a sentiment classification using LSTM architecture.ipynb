{
 "cells": [
  {
   "cell_type": "markdown",
   "id": "f417587b",
   "metadata": {},
   "source": [
    "### Create a classification model using LSTM"
   ]
  },
  {
   "cell_type": "code",
   "execution_count": 1,
   "id": "a05e79e4",
   "metadata": {},
   "outputs": [],
   "source": [
    "import tensorflow as tf\n",
    "from tensorflow.keras.datasets import imdb\n",
    "from tensorflow.keras.preprocessing.sequence import pad_sequences\n",
    "from tensorflow.keras.models import Sequential\n",
    "from tensorflow.keras.layers import Embedding, LSTM, Dense"
   ]
  },
  {
   "cell_type": "code",
   "execution_count": 2,
   "id": "59d8fbcf",
   "metadata": {},
   "outputs": [],
   "source": [
    "# Load IMDb movie reviews dataset\n",
    "vocab_size = 10000  # Consider only the top 10,000 words in the dataset\n",
    "maxlen = 500  # Cuts off reviews after 500 words\n",
    "(train_data, train_labels), (test_data, test_labels) = imdb.load_data(num_words=vocab_size)"
   ]
  },
  {
   "cell_type": "code",
   "execution_count": 3,
   "id": "84bcc4d2",
   "metadata": {},
   "outputs": [],
   "source": [
    "# Pad sequences to ensure uniform length\n",
    "train_data = pad_sequences(train_data, maxlen=maxlen)\n",
    "test_data = pad_sequences(test_data, maxlen=maxlen)"
   ]
  },
  {
   "cell_type": "code",
   "execution_count": 4,
   "id": "dc5b0f56",
   "metadata": {},
   "outputs": [],
   "source": [
    "# Create the LSTM model\n",
    "model = Sequential()"
   ]
  },
  {
   "cell_type": "code",
   "execution_count": 5,
   "id": "b11b7423",
   "metadata": {},
   "outputs": [],
   "source": [
    "model.add(Embedding(vocab_size, 32))  # 32 is the embedding dimension"
   ]
  },
  {
   "cell_type": "code",
   "execution_count": 6,
   "id": "2bd0f615",
   "metadata": {},
   "outputs": [],
   "source": [
    "model.add(LSTM(32))  # 32 is the output dimension of the LSTM layer"
   ]
  },
  {
   "cell_type": "code",
   "execution_count": 7,
   "id": "82c3d802",
   "metadata": {},
   "outputs": [],
   "source": [
    "model.add(Dense(1, activation='sigmoid'))  # Binary classification (positive/negative)"
   ]
  },
  {
   "cell_type": "code",
   "execution_count": 8,
   "id": "c5b4b463",
   "metadata": {},
   "outputs": [],
   "source": [
    "# Compile the model\n",
    "model.compile(optimizer='rmsprop', loss='binary_crossentropy', metrics=['acc'])"
   ]
  },
  {
   "cell_type": "code",
   "execution_count": 9,
   "id": "b2159f4e",
   "metadata": {
    "scrolled": true
   },
   "outputs": [
    {
     "name": "stdout",
     "output_type": "stream",
     "text": [
      "Epoch 1/10\n",
      "157/157 [==============================] - 54s 325ms/step - loss: 0.4998 - acc: 0.7643 - val_loss: 0.3330 - val_acc: 0.8684\n",
      "Epoch 2/10\n",
      "157/157 [==============================] - 49s 315ms/step - loss: 0.2981 - acc: 0.8832 - val_loss: 0.2828 - val_acc: 0.8876\n",
      "Epoch 3/10\n",
      "157/157 [==============================] - 50s 321ms/step - loss: 0.2295 - acc: 0.9133 - val_loss: 0.3187 - val_acc: 0.8744\n",
      "Epoch 4/10\n",
      "157/157 [==============================] - 50s 322ms/step - loss: 0.2034 - acc: 0.9240 - val_loss: 0.3145 - val_acc: 0.8774\n",
      "Epoch 5/10\n",
      "157/157 [==============================] - 50s 322ms/step - loss: 0.1754 - acc: 0.9366 - val_loss: 0.3460 - val_acc: 0.8734\n",
      "Epoch 6/10\n",
      "157/157 [==============================] - 51s 322ms/step - loss: 0.1598 - acc: 0.9427 - val_loss: 0.2983 - val_acc: 0.8758\n",
      "Epoch 7/10\n",
      "157/157 [==============================] - 51s 322ms/step - loss: 0.1430 - acc: 0.9502 - val_loss: 0.3952 - val_acc: 0.8680\n",
      "Epoch 8/10\n",
      "157/157 [==============================] - 51s 323ms/step - loss: 0.1310 - acc: 0.9549 - val_loss: 0.3619 - val_acc: 0.8898\n",
      "Epoch 9/10\n",
      "157/157 [==============================] - 51s 323ms/step - loss: 0.1222 - acc: 0.9574 - val_loss: 0.3841 - val_acc: 0.8702\n",
      "Epoch 10/10\n",
      "157/157 [==============================] - 51s 323ms/step - loss: 0.1126 - acc: 0.9599 - val_loss: 0.4136 - val_acc: 0.8530\n"
     ]
    }
   ],
   "source": [
    "# Train the model\n",
    "history = model.fit(train_data, train_labels, epochs=10, batch_size=128, validation_split=0.2)"
   ]
  },
  {
   "cell_type": "code",
   "execution_count": 10,
   "id": "03f03360",
   "metadata": {},
   "outputs": [
    {
     "name": "stdout",
     "output_type": "stream",
     "text": [
      "782/782 [==============================] - 43s 55ms/step - loss: 0.4407 - acc: 0.8466\n",
      "Test Accuracy: 0.8465999960899353\n"
     ]
    }
   ],
   "source": [
    "# Evaluate the model on the test set\n",
    "test_loss, test_acc = model.evaluate(test_data, test_labels)\n",
    "print(f\"Test Accuracy: {test_acc}\")"
   ]
  },
  {
   "cell_type": "code",
   "execution_count": null,
   "id": "72717c9f",
   "metadata": {},
   "outputs": [],
   "source": []
  },
  {
   "cell_type": "code",
   "execution_count": null,
   "id": "c3e343c0",
   "metadata": {},
   "outputs": [],
   "source": []
  },
  {
   "cell_type": "code",
   "execution_count": null,
   "id": "bf764978",
   "metadata": {},
   "outputs": [],
   "source": []
  },
  {
   "cell_type": "code",
   "execution_count": null,
   "id": "10b08ce0",
   "metadata": {},
   "outputs": [],
   "source": []
  },
  {
   "cell_type": "code",
   "execution_count": null,
   "id": "5ef49e67",
   "metadata": {},
   "outputs": [],
   "source": []
  },
  {
   "cell_type": "code",
   "execution_count": null,
   "id": "2e6f6d1e",
   "metadata": {},
   "outputs": [],
   "source": []
  },
  {
   "cell_type": "code",
   "execution_count": null,
   "id": "890fec14",
   "metadata": {},
   "outputs": [],
   "source": []
  },
  {
   "cell_type": "code",
   "execution_count": null,
   "id": "6fcc0a63",
   "metadata": {},
   "outputs": [],
   "source": []
  },
  {
   "cell_type": "code",
   "execution_count": null,
   "id": "b9f9bb2f",
   "metadata": {},
   "outputs": [],
   "source": []
  }
 ],
 "metadata": {
  "kernelspec": {
   "display_name": "Python 3 (ipykernel)",
   "language": "python",
   "name": "python3"
  },
  "language_info": {
   "codemirror_mode": {
    "name": "ipython",
    "version": 3
   },
   "file_extension": ".py",
   "mimetype": "text/x-python",
   "name": "python",
   "nbconvert_exporter": "python",
   "pygments_lexer": "ipython3",
   "version": "3.10.9"
  }
 },
 "nbformat": 4,
 "nbformat_minor": 5
}
