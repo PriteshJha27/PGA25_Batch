{
 "cells": [
  {
   "cell_type": "markdown",
   "id": "484ad9a7",
   "metadata": {},
   "source": [
    "<h2><b> Solve the following problems using numpy"
   ]
  },
  {
   "cell_type": "markdown",
   "id": "11e73248",
   "metadata": {},
   "source": [
    "<b> Array Creation and Manipulation\n",
    "- Create and Reshape: Create a 1D NumPy array of zeros with 10 elements. Then, reshape it into a 2x5 matrix.\n",
    "- Indexing: Given a 2D array, find the value of the element at row index 2, column index 3.\n",
    "- Slicing: Extract a 3x3 sub-array from a 5x5 array starting from the top-left corner.\n",
    "- Conditional Selection: Given an array, create a new array that only contains the values greater than 5.\n",
    "- Array Concatenation: Concatenate two arrays horizontally and vertically.\n",
    "\n",
    "<b> Array Operations\n",
    "- Element-wise Addition: Given two arrays of the same shape, compute their element-wise sum.\n",
    "- Broadcasting: Add a 1D array to a 2D array where each element of the 1D array adds to each row of the 2D array.\n",
    "- Aggregation: Compute the mean, median, and standard deviation of a large array.\n",
    "- Normalization: Normalize a 2D array so that each row sums to 1.\n",
    "\n",
    "<b>Linear Algebra\n",
    "\n",
    "- Dot Product: Compute the dot product of two vectors.\n",
    "- Matrix Multiplication: Multiply two matrices together.\n",
    "- Transpose and Multiply: Given a matrix, compute the product of the matrix and its transpose.\n",
    "- Eigenvalues and Eigenvectors: Find the eigenvalues and eigenvectors of a square matrix.\n",
    "\n",
    "<b> Random Number Generation\n",
    "- Random Sampling: Generate an array of 20 random samples from a standard normal distribution.\n",
    "- Shuffling: Create an array of the first 10 integers and shuffle them randomly.\n",
    "\n",
    "<b> Performance Optimization\n",
    "- Vectorization: Replace a loop that computes the element-wise sum of two large arrays with a vectorized operation.\n",
    "- Memory Layout: Create an array and a transposed copy of it. Compare the performance of summing the elements in each to demonstrate the impact of memory layout on performance.\n"
   ]
  },
  {
   "cell_type": "code",
   "execution_count": null,
   "id": "e1834158",
   "metadata": {},
   "outputs": [],
   "source": []
  },
  {
   "cell_type": "code",
   "execution_count": null,
   "id": "0491810e",
   "metadata": {},
   "outputs": [],
   "source": []
  },
  {
   "cell_type": "code",
   "execution_count": null,
   "id": "be43244a",
   "metadata": {},
   "outputs": [],
   "source": []
  },
  {
   "cell_type": "code",
   "execution_count": null,
   "id": "ad0684a3",
   "metadata": {},
   "outputs": [],
   "source": []
  },
  {
   "cell_type": "code",
   "execution_count": null,
   "id": "f7f997af",
   "metadata": {},
   "outputs": [],
   "source": []
  },
  {
   "cell_type": "code",
   "execution_count": null,
   "id": "08368781",
   "metadata": {},
   "outputs": [],
   "source": []
  },
  {
   "cell_type": "code",
   "execution_count": null,
   "id": "5f02c712",
   "metadata": {},
   "outputs": [],
   "source": []
  },
  {
   "cell_type": "code",
   "execution_count": null,
   "id": "85ab9f76",
   "metadata": {},
   "outputs": [],
   "source": []
  },
  {
   "cell_type": "code",
   "execution_count": null,
   "id": "7cfbf495",
   "metadata": {},
   "outputs": [],
   "source": []
  },
  {
   "cell_type": "code",
   "execution_count": null,
   "id": "ada74d73",
   "metadata": {},
   "outputs": [],
   "source": []
  },
  {
   "cell_type": "code",
   "execution_count": null,
   "id": "e1cef441",
   "metadata": {},
   "outputs": [],
   "source": []
  },
  {
   "cell_type": "code",
   "execution_count": null,
   "id": "0f165c68",
   "metadata": {},
   "outputs": [],
   "source": []
  },
  {
   "cell_type": "code",
   "execution_count": null,
   "id": "874a32fd",
   "metadata": {},
   "outputs": [],
   "source": []
  },
  {
   "cell_type": "code",
   "execution_count": null,
   "id": "50f57bd3",
   "metadata": {},
   "outputs": [],
   "source": []
  },
  {
   "cell_type": "code",
   "execution_count": null,
   "id": "8a6201e2",
   "metadata": {},
   "outputs": [],
   "source": []
  },
  {
   "cell_type": "code",
   "execution_count": null,
   "id": "de20efa5",
   "metadata": {},
   "outputs": [],
   "source": []
  },
  {
   "cell_type": "code",
   "execution_count": null,
   "id": "817bbd61",
   "metadata": {},
   "outputs": [],
   "source": []
  }
 ],
 "metadata": {
  "kernelspec": {
   "display_name": "Python 3 (ipykernel)",
   "language": "python",
   "name": "python3"
  },
  "language_info": {
   "codemirror_mode": {
    "name": "ipython",
    "version": 3
   },
   "file_extension": ".py",
   "mimetype": "text/x-python",
   "name": "python",
   "nbconvert_exporter": "python",
   "pygments_lexer": "ipython3",
   "version": "3.10.9"
  }
 },
 "nbformat": 4,
 "nbformat_minor": 5
}
