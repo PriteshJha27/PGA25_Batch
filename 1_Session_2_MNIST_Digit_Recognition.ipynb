{
 "cells": [
  {
   "cell_type": "markdown",
   "id": "cca5d49f",
   "metadata": {},
   "source": [
    "data : https://www.kaggle.com/datasets/oddrationale/mnist-in-csv"
   ]
  },
  {
   "cell_type": "code",
   "execution_count": 1,
   "id": "dfd44ba7",
   "metadata": {},
   "outputs": [],
   "source": [
    "import numpy as np\n",
    "import pandas as pd\n",
    "import warnings\n",
    "warnings.filterwarnings('ignore')\n",
    "import matplotlib.pyplot as plt\n",
    "import seaborn as sns"
   ]
  },
  {
   "cell_type": "code",
   "execution_count": 2,
   "id": "f6de7555",
   "metadata": {},
   "outputs": [],
   "source": [
    "from sklearn.model_selection import train_test_split\n",
    "from sklearn.preprocessing import StandardScaler\n",
    "from sklearn.metrics import accuracy_score, confusion_matrix, roc_auc_score, roc_curve, precision_recall_curve\n",
    "from sklearn.ensemble import RandomForestClassifier"
   ]
  },
  {
   "cell_type": "code",
   "execution_count": 3,
   "id": "49a0b6e3",
   "metadata": {},
   "outputs": [],
   "source": [
    "from keras.models import Sequential\n",
    "from keras.layers import Input, Dense, Flatten, Dropout, BatchNormalization\n",
    "from keras.utils.np_utils import to_categorical\n",
    "from keras.optimizers import Adam, SGD, RMSprop"
   ]
  },
  {
   "cell_type": "code",
   "execution_count": 4,
   "id": "a23561f2",
   "metadata": {},
   "outputs": [],
   "source": [
    "directory = 'D:\\\\Pritesh\\\\Imarticus Learning\\\\Content\\\\Deep Learning\\\\Deep Learning\\\\Data\\\\'"
   ]
  },
  {
   "cell_type": "code",
   "execution_count": null,
   "id": "5a5a353a",
   "metadata": {},
   "outputs": [],
   "source": [
    "df = pd.read_csv(directory+'mnist_train.csv')"
   ]
  },
  {
   "cell_type": "code",
   "execution_count": null,
   "id": "9c47c3ee",
   "metadata": {},
   "outputs": [],
   "source": [
    "df.head(2)"
   ]
  },
  {
   "cell_type": "code",
   "execution_count": null,
   "id": "7f9bb13f",
   "metadata": {
    "scrolled": true
   },
   "outputs": [],
   "source": [
    "df.shape"
   ]
  },
  {
   "cell_type": "code",
   "execution_count": null,
   "id": "5249b2b4",
   "metadata": {},
   "outputs": [],
   "source": [
    "# seperating label from the dataset, normalizing and reshaping the images to 28*28\n",
    "# training dataset\n",
    "train_labels = df['label'].values.reshape((-1, 1))\n",
    "train_images = df.drop(columns=['label']).values"
   ]
  },
  {
   "cell_type": "code",
   "execution_count": null,
   "id": "489c722d",
   "metadata": {},
   "outputs": [],
   "source": []
  },
  {
   "cell_type": "markdown",
   "id": "05a37b4a",
   "metadata": {},
   "source": [
    "#### View as images"
   ]
  },
  {
   "cell_type": "code",
   "execution_count": null,
   "id": "56a66575",
   "metadata": {},
   "outputs": [],
   "source": [
    "train_images = train_images.reshape((-1, 28, 28)).astype('float32')/255"
   ]
  },
  {
   "cell_type": "markdown",
   "id": "b13733d3",
   "metadata": {},
   "source": [
    "The images are reshaped into shape (28, 28) (shape for training data with 60000 examples = (60000, 28, 28)). '-1' automatically detects the overall size. It would be useful for plotting some images."
   ]
  },
  {
   "cell_type": "code",
   "execution_count": null,
   "id": "2e61fb30",
   "metadata": {},
   "outputs": [],
   "source": [
    "train_images.shape"
   ]
  },
  {
   "cell_type": "code",
   "execution_count": null,
   "id": "6d535891",
   "metadata": {},
   "outputs": [],
   "source": [
    "def plot_images(images, labels, image_number):\n",
    "    plt.imshow(images[image_number], cmap='gray')\n",
    "    plt.title(f'label: {labels[image_number]}')"
   ]
  },
  {
   "cell_type": "code",
   "execution_count": null,
   "id": "043e5545",
   "metadata": {},
   "outputs": [],
   "source": [
    "plot_images(train_images, train_labels, 50000)"
   ]
  },
  {
   "cell_type": "code",
   "execution_count": null,
   "id": "2498fd00",
   "metadata": {},
   "outputs": [],
   "source": [
    "### Reshape again to build model"
   ]
  },
  {
   "cell_type": "code",
   "execution_count": null,
   "id": "ecb74ab0",
   "metadata": {},
   "outputs": [],
   "source": [
    "train_images = train_images.reshape((-1, 28*28))"
   ]
  },
  {
   "cell_type": "code",
   "execution_count": null,
   "id": "e9832eea",
   "metadata": {},
   "outputs": [],
   "source": []
  },
  {
   "cell_type": "markdown",
   "id": "d183dc19",
   "metadata": {},
   "source": [
    "#### Test data"
   ]
  },
  {
   "cell_type": "code",
   "execution_count": null,
   "id": "5bf1f9a9",
   "metadata": {},
   "outputs": [],
   "source": [
    "df_test = pd.read_csv(r'D:\\Pritesh\\Imarticus Learning\\Content\\Deep Learning\\mnist_test.csv')"
   ]
  },
  {
   "cell_type": "code",
   "execution_count": null,
   "id": "a3b3e4b8",
   "metadata": {},
   "outputs": [],
   "source": [
    "\n",
    "test_labels = df_test['label'].values.reshape((-1, 1))\n",
    "test_images = df_test.drop(columns=['label']).values"
   ]
  },
  {
   "cell_type": "code",
   "execution_count": null,
   "id": "be3a066a",
   "metadata": {},
   "outputs": [],
   "source": []
  },
  {
   "cell_type": "code",
   "execution_count": null,
   "id": "0266732c",
   "metadata": {},
   "outputs": [],
   "source": [
    "# One-hot encode the labels\n",
    "y_train = to_categorical(train_labels, 10)\n",
    "y_test = to_categorical(test_labels, 10)\n"
   ]
  },
  {
   "cell_type": "code",
   "execution_count": null,
   "id": "07da7961",
   "metadata": {},
   "outputs": [],
   "source": [
    "y_train.shape"
   ]
  },
  {
   "cell_type": "markdown",
   "id": "353031d3",
   "metadata": {},
   "source": [
    "### Building a Neural network:"
   ]
  },
  {
   "cell_type": "code",
   "execution_count": null,
   "id": "1afe27cd",
   "metadata": {},
   "outputs": [],
   "source": [
    "normalizer = StandardScaler()\n",
    "X_train_norm = normalizer.fit_transform(train_images)\n",
    "X_test_norm = normalizer.fit_transform(test_images)"
   ]
  },
  {
   "cell_type": "code",
   "execution_count": null,
   "id": "f782092c",
   "metadata": {},
   "outputs": [],
   "source": []
  },
  {
   "cell_type": "markdown",
   "id": "8f2c4b49",
   "metadata": {},
   "source": [
    "#### Attempt 1"
   ]
  },
  {
   "cell_type": "code",
   "execution_count": null,
   "id": "e5d8fdf2",
   "metadata": {},
   "outputs": [],
   "source": [
    "model_1 = Sequential()"
   ]
  },
  {
   "cell_type": "code",
   "execution_count": null,
   "id": "c0e9f3de",
   "metadata": {},
   "outputs": [],
   "source": [
    "model_1.add(Dense(input_shape=(784,), units = 128, activation='relu'))"
   ]
  },
  {
   "cell_type": "code",
   "execution_count": null,
   "id": "2665341c",
   "metadata": {},
   "outputs": [],
   "source": [
    "model_1.add(Dense(units = 64, activation='relu'))"
   ]
  },
  {
   "cell_type": "code",
   "execution_count": null,
   "id": "e18ac33f",
   "metadata": {},
   "outputs": [],
   "source": [
    "model_1.add(Dropout(0.5))"
   ]
  },
  {
   "cell_type": "code",
   "execution_count": null,
   "id": "fbd45c67",
   "metadata": {},
   "outputs": [],
   "source": [
    "model_1.add(Dense(10, activation=\"softmax\"))"
   ]
  },
  {
   "cell_type": "code",
   "execution_count": null,
   "id": "9efa7f84",
   "metadata": {},
   "outputs": [],
   "source": [
    "model_1.summary()"
   ]
  },
  {
   "cell_type": "code",
   "execution_count": null,
   "id": "993924ae",
   "metadata": {},
   "outputs": [],
   "source": [
    "model_1.compile(optimizer='adam', loss='categorical_crossentropy', metrics=['accuracy'])"
   ]
  },
  {
   "cell_type": "code",
   "execution_count": null,
   "id": "88828e98",
   "metadata": {},
   "outputs": [],
   "source": [
    "y_train.shape"
   ]
  },
  {
   "cell_type": "code",
   "execution_count": null,
   "id": "37fd78e6",
   "metadata": {},
   "outputs": [],
   "source": [
    "run_hist_1 = model_1.fit(X_train_norm, y_train, validation_data=(X_test_norm, y_test), epochs=10)"
   ]
  },
  {
   "cell_type": "code",
   "execution_count": null,
   "id": "96c65029",
   "metadata": {},
   "outputs": [],
   "source": [
    "#y_pred_class_nn_1 = model_1.predict(X_test_norm)\n",
    "y_pred_prob_nn_1 = model_1.predict(X_test_norm)"
   ]
  },
  {
   "cell_type": "code",
   "execution_count": null,
   "id": "3013446e",
   "metadata": {},
   "outputs": [],
   "source": [
    "fig, ax = plt.subplots()\n",
    "ax.plot(run_hist_1.history[\"loss\"],'r', marker='.', label=\"Train Loss\")\n",
    "ax.plot(run_hist_1.history[\"val_loss\"],'b', marker='.', label=\"Validation Loss\")\n",
    "ax.legend()"
   ]
  },
  {
   "cell_type": "code",
   "execution_count": null,
   "id": "591801a4",
   "metadata": {},
   "outputs": [],
   "source": []
  },
  {
   "cell_type": "code",
   "execution_count": null,
   "id": "ddb6b9ad",
   "metadata": {},
   "outputs": [],
   "source": []
  },
  {
   "cell_type": "code",
   "execution_count": null,
   "id": "00e6158f",
   "metadata": {},
   "outputs": [],
   "source": []
  },
  {
   "cell_type": "markdown",
   "id": "f4efd884",
   "metadata": {},
   "source": [
    "#### Attempt 2"
   ]
  },
  {
   "cell_type": "code",
   "execution_count": null,
   "id": "4fb88856",
   "metadata": {},
   "outputs": [],
   "source": [
    "model = Sequential([\n",
    "    Dense(128, input_shape = (784,), activation='relu'),  # First hidden layer with 128 neurons and ReLU activation.\n",
    "    Dropout(0.5),  # Dropout layer after the first hidden layer\n",
    "    Dense(10, activation='softmax')  # Output layer with 10 neurons (for 10 classes) and softmax activation.\n",
    "])\n"
   ]
  },
  {
   "cell_type": "code",
   "execution_count": null,
   "id": "25087032",
   "metadata": {},
   "outputs": [],
   "source": [
    "model.summary()"
   ]
  },
  {
   "cell_type": "code",
   "execution_count": null,
   "id": "debdbc31",
   "metadata": {},
   "outputs": [],
   "source": [
    "model.compile(optimizer='adam',  # Optimizer\n",
    "              loss='categorical_crossentropy',  # Loss function for multi-class classification\n",
    "              metrics=['accuracy'])  # List of metrics to be evaluated by the model during training and testing\n"
   ]
  },
  {
   "cell_type": "code",
   "execution_count": null,
   "id": "66b16ce6",
   "metadata": {},
   "outputs": [],
   "source": [
    "run_hist_2 =model.fit(X_train_norm, y_train, epochs=10, batch_size=32, validation_split=0.2)"
   ]
  },
  {
   "cell_type": "code",
   "execution_count": null,
   "id": "957b5478",
   "metadata": {},
   "outputs": [],
   "source": [
    "test_loss, test_acc = model.evaluate(X_test_norm, y_test)\n",
    "print(f'Test accuracy: {test_acc}')"
   ]
  },
  {
   "cell_type": "code",
   "execution_count": null,
   "id": "850a779e",
   "metadata": {},
   "outputs": [],
   "source": [
    "fig, ax = plt.subplots()\n",
    "ax.plot(run_hist_2.history[\"loss\"],'r', marker='.', label=\"Train Loss\")\n",
    "ax.plot(run_hist_2.history[\"val_loss\"],'b', marker='.', label=\"Validation Loss\")\n",
    "ax.legend()"
   ]
  },
  {
   "cell_type": "code",
   "execution_count": null,
   "id": "e38d9d10",
   "metadata": {},
   "outputs": [],
   "source": []
  },
  {
   "cell_type": "code",
   "execution_count": null,
   "id": "47fc6721",
   "metadata": {},
   "outputs": [],
   "source": []
  },
  {
   "cell_type": "code",
   "execution_count": null,
   "id": "71b85d45",
   "metadata": {},
   "outputs": [],
   "source": []
  },
  {
   "cell_type": "code",
   "execution_count": null,
   "id": "a55e2b8d",
   "metadata": {},
   "outputs": [],
   "source": []
  },
  {
   "cell_type": "code",
   "execution_count": null,
   "id": "697ba7bf",
   "metadata": {},
   "outputs": [],
   "source": []
  },
  {
   "cell_type": "code",
   "execution_count": null,
   "id": "1faf4101",
   "metadata": {},
   "outputs": [],
   "source": []
  },
  {
   "cell_type": "code",
   "execution_count": null,
   "id": "2ab9bfb9",
   "metadata": {},
   "outputs": [],
   "source": []
  },
  {
   "cell_type": "code",
   "execution_count": null,
   "id": "78d58c91",
   "metadata": {},
   "outputs": [],
   "source": []
  },
  {
   "cell_type": "code",
   "execution_count": null,
   "id": "5e2889a7",
   "metadata": {},
   "outputs": [],
   "source": [
    "# from keras.callbacks import EarlyStopping\n",
    "\n",
    "# early_stopping = EarlyStopping(monitor='val_loss', patience=5)\n",
    "\n",
    "# model.fit(X_train_norm, y_train, epochs=10, batch_size=32, validation_split=0.2, callbacks=[early_stopping])\n"
   ]
  },
  {
   "cell_type": "code",
   "execution_count": null,
   "id": "a4528a17",
   "metadata": {},
   "outputs": [],
   "source": [
    "# from keras.regularizers import l1_l2\n",
    "\n",
    "# model = Sequential([\n",
    "#     Flatten(input_shape=(28, 28)),\n",
    "#     Dense(128, activation='relu', kernel_regularizer=l1_l2(l1=0.01, l2=0.01)),\n",
    "#     Dense(10, activation='softmax')\n",
    "# ])\n"
   ]
  },
  {
   "cell_type": "code",
   "execution_count": null,
   "id": "34784e2d",
   "metadata": {},
   "outputs": [],
   "source": []
  }
 ],
 "metadata": {
  "kernelspec": {
   "display_name": "Python 3 (ipykernel)",
   "language": "python",
   "name": "python3"
  },
  "language_info": {
   "codemirror_mode": {
    "name": "ipython",
    "version": 3
   },
   "file_extension": ".py",
   "mimetype": "text/x-python",
   "name": "python",
   "nbconvert_exporter": "python",
   "pygments_lexer": "ipython3",
   "version": "3.10.9"
  }
 },
 "nbformat": 4,
 "nbformat_minor": 5
}
